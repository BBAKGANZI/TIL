{
  "nbformat": 4,
  "nbformat_minor": 0,
  "metadata": {
    "colab": {
      "name": "for문.ipynb",
      "provenance": [],
      "collapsed_sections": []
    },
    "kernelspec": {
      "name": "python3",
      "display_name": "Python 3"
    },
    "language_info": {
      "name": "python"
    }
  },
  "cells": [
    {
      "cell_type": "code",
      "metadata": {
        "id": "tdI8jyOToRXh"
      },
      "source": [
        "import numpy as np"
      ],
      "execution_count": 1,
      "outputs": []
    },
    {
      "cell_type": "code",
      "metadata": {
        "colab": {
          "base_uri": "https://localhost:8080/"
        },
        "id": "WWciyUo1oUS4",
        "outputId": "ab388f5a-210b-415c-fbcf-54f4b7466b71"
      },
      "source": [
        "# 2739\n",
        "# 구구단\n",
        "\n",
        "x = int(input())\n",
        "\n",
        "for i in range(1, 10):\n",
        "    print(x, '*', i, '=', x*i)"
      ],
      "execution_count": 11,
      "outputs": [
        {
          "output_type": "stream",
          "name": "stdout",
          "text": [
            "2\n",
            "2 * 1 = 2\n",
            "2 * 2 = 4\n",
            "2 * 3 = 6\n",
            "2 * 4 = 8\n",
            "2 * 5 = 10\n",
            "2 * 6 = 12\n",
            "2 * 7 = 14\n",
            "2 * 8 = 16\n",
            "2 * 9 = 18\n"
          ]
        }
      ]
    },
    {
      "cell_type": "code",
      "metadata": {
        "colab": {
          "base_uri": "https://localhost:8080/"
        },
        "id": "EsACtt9ewnU1",
        "outputId": "3c5946b3-2eb3-41fa-87ec-425fd24a18c4"
      },
      "source": [
        "# 10950\n",
        "# A+B - 3\n",
        "\n",
        "x = int(input())\n",
        "a = []\n",
        "b = []\n",
        "for i in range(x) :\n",
        "    a1, b1 = map(int, input().split())\n",
        "    a.append(a1)\n",
        "    b.append(b1)\n",
        "\n",
        "for i in range(x):\n",
        "    print(a[i] + b[i])"
      ],
      "execution_count": 36,
      "outputs": [
        {
          "output_type": "stream",
          "name": "stdout",
          "text": [
            "5\n",
            "1 1\n",
            "1 2\n",
            "1 3\n",
            "1 5\n",
            "1 9\n",
            "2\n",
            "3\n",
            "4\n",
            "6\n",
            "10\n"
          ]
        }
      ]
    },
    {
      "cell_type": "code",
      "metadata": {
        "id": "4S925dDLza_u"
      },
      "source": [
        ""
      ],
      "execution_count": null,
      "outputs": []
    }
  ]
}