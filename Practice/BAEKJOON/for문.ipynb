{
  "nbformat": 4,
  "nbformat_minor": 0,
  "metadata": {
    "colab": {
      "name": "for문.ipynb",
      "provenance": [],
      "collapsed_sections": []
    },
    "kernelspec": {
      "name": "python3",
      "display_name": "Python 3"
    },
    "language_info": {
      "name": "python"
    }
  },
  "cells": [
    {
      "cell_type": "code",
      "metadata": {
        "id": "tdI8jyOToRXh"
      },
      "source": [
        "import numpy as np"
      ],
      "execution_count": null,
      "outputs": []
    },
    {
      "cell_type": "code",
      "metadata": {
        "colab": {
          "base_uri": "https://localhost:8080/"
        },
        "id": "WWciyUo1oUS4",
        "outputId": "ab388f5a-210b-415c-fbcf-54f4b7466b71"
      },
      "source": [
        "# 2739\n",
        "# 구구단\n",
        "\n",
        "x = int(input())\n",
        "\n",
        "for i in range(1, 10):\n",
        "    print(x, '*', i, '=', x*i)"
      ],
      "execution_count": null,
      "outputs": [
        {
          "output_type": "stream",
          "name": "stdout",
          "text": [
            "2\n",
            "2 * 1 = 2\n",
            "2 * 2 = 4\n",
            "2 * 3 = 6\n",
            "2 * 4 = 8\n",
            "2 * 5 = 10\n",
            "2 * 6 = 12\n",
            "2 * 7 = 14\n",
            "2 * 8 = 16\n",
            "2 * 9 = 18\n"
          ]
        }
      ]
    },
    {
      "cell_type": "code",
      "metadata": {
        "colab": {
          "base_uri": "https://localhost:8080/"
        },
        "id": "EsACtt9ewnU1",
        "outputId": "3c5946b3-2eb3-41fa-87ec-425fd24a18c4"
      },
      "source": [
        "# 10950\n",
        "# A+B - 3\n",
        "\n",
        "x = int(input())\n",
        "a = []\n",
        "b = []\n",
        "for i in range(x) :\n",
        "    a1, b1 = map(int, input().split())\n",
        "    a.append(a1)\n",
        "    b.append(b1)\n",
        "\n",
        "for i in range(x):\n",
        "    print(a[i] + b[i])"
      ],
      "execution_count": null,
      "outputs": [
        {
          "output_type": "stream",
          "name": "stdout",
          "text": [
            "5\n",
            "1 1\n",
            "1 2\n",
            "1 3\n",
            "1 5\n",
            "1 9\n",
            "2\n",
            "3\n",
            "4\n",
            "6\n",
            "10\n"
          ]
        }
      ]
    },
    {
      "cell_type": "code",
      "metadata": {
        "id": "4S925dDLza_u",
        "colab": {
          "base_uri": "https://localhost:8080/"
        },
        "outputId": "7d28b3ff-be75-4bf6-d118-81fc74a68c3a"
      },
      "source": [
        "# 8393\n",
        "# 합\n",
        "\n",
        "x = int(input())\n",
        "i = 0\n",
        "\n",
        "for i in range(x-1):\n",
        "    i += 1\n",
        "    x = i + x\n",
        "\n",
        "print(x)"
      ],
      "execution_count": 1,
      "outputs": [
        {
          "output_type": "stream",
          "name": "stdout",
          "text": [
            "5\n",
            "15\n"
          ]
        }
      ]
    },
    {
      "cell_type": "code",
      "metadata": {
        "id": "Y63dZMPG_k5d"
      },
      "source": [
        "# 15552\n",
        "# 빠른 A+B\n",
        "# 주피터 노트북에서는 stdin이 에러발생\n",
        "\n",
        "import sys\n",
        "\n",
        "T = int(input())\n",
        "\n",
        "for i in range(T):\n",
        "        a, b = map(int, sys.stdin.readline().split())\n",
        "        print(a+b)"
      ],
      "execution_count": null,
      "outputs": []
    },
    {
      "cell_type": "code",
      "metadata": {
        "colab": {
          "base_uri": "https://localhost:8080/"
        },
        "id": "qWx8JND_F-fv",
        "outputId": "51c7310b-8241-4e6b-9448-24a969a89521"
      },
      "source": [
        "# 2741\n",
        "# N 찍기\n",
        "\n",
        "N = int(input())\n",
        "\n",
        "for i in range(N):\n",
        "    N -= N-i-1\n",
        "    print(N)"
      ],
      "execution_count": 2,
      "outputs": [
        {
          "output_type": "stream",
          "name": "stdout",
          "text": [
            "5\n",
            "1\n",
            "2\n",
            "3\n",
            "4\n",
            "5\n"
          ]
        }
      ]
    },
    {
      "cell_type": "code",
      "metadata": {
        "colab": {
          "base_uri": "https://localhost:8080/"
        },
        "id": "pXDW5Y7pGB0I",
        "outputId": "e2e91d51-68d7-4190-f234-1acad648de6e"
      },
      "source": [
        "# 2742\n",
        "# 기찍 N\n",
        "\n",
        "N = int(input())\n",
        "\n",
        "for i  in range(N):\n",
        "    N -= 1\n",
        "    print(N+1)"
      ],
      "execution_count": 3,
      "outputs": [
        {
          "output_type": "stream",
          "name": "stdout",
          "text": [
            "5\n",
            "5\n",
            "4\n",
            "3\n",
            "2\n",
            "1\n"
          ]
        }
      ]
    },
    {
      "cell_type": "code",
      "metadata": {
        "colab": {
          "base_uri": "https://localhost:8080/"
        },
        "id": "fqSgY_PTHcz6",
        "outputId": "515a9410-5901-4ee9-cb57-7fffa13c6a0a"
      },
      "source": [
        "# 11021\n",
        "# A+B -7\n",
        "# 띄어쓰기로 인해 오류\n",
        "\n",
        "T = int(input())\n",
        "a = []\n",
        "for i in range(T):\n",
        "    A, B = map(int, input().split())\n",
        "    a.append(A + B)\n",
        "for j in range(T):\n",
        "    print(\"Case #\",j+1,\":\",a[j])"
      ],
      "execution_count": 5,
      "outputs": [
        {
          "output_type": "stream",
          "name": "stdout",
          "text": [
            "5 \n",
            "1 1\n",
            "2 3\n",
            "3 4\n",
            "9 8\n",
            "5 2\n",
            "Case # 1 : 2\n",
            "Case # 2 : 5\n",
            "Case # 3 : 7\n",
            "Case # 4 : 17\n",
            "Case # 5 : 7\n"
          ]
        }
      ]
    },
    {
      "cell_type": "code",
      "metadata": {
        "colab": {
          "base_uri": "https://localhost:8080/"
        },
        "id": "bHCrLwWCTXJY",
        "outputId": "880ec427-4c96-446b-e86f-7c7c829e842a"
      },
      "source": [
        "# 11021\n",
        "\n",
        "T = int(input())\n",
        "a = []\n",
        "for i in range(T):\n",
        "    A, B = map(int, input().split())\n",
        "    a.append(A + B)\n",
        "for j in range(T):\n",
        "    Case = f'Case #{j+1}: {a[j]}'\n",
        "    print(Case)"
      ],
      "execution_count": 6,
      "outputs": [
        {
          "output_type": "stream",
          "name": "stdout",
          "text": [
            "5\n",
            "1 1\n",
            "2 3\n",
            "3 4\n",
            "9 8\n",
            "5 2\n",
            "Case #1: 2\n",
            "Case #2: 5\n",
            "Case #3: 7\n",
            "Case #4: 17\n",
            "Case #5: 7\n"
          ]
        }
      ]
    },
    {
      "cell_type": "code",
      "metadata": {
        "colab": {
          "base_uri": "https://localhost:8080/"
        },
        "id": "tl4rvRl4UMwm",
        "outputId": "c434a605-e448-49de-a823-3371a805babe"
      },
      "source": [
        "# 11022\n",
        "# A+B -8\n",
        "\n",
        "T = int(input())\n",
        "a = []\n",
        "b = []\n",
        "c = []\n",
        "for i in range(T):\n",
        "    A, B = map(int, input().split())\n",
        "    a.append(A)\n",
        "    b.append(B)\n",
        "    c.append(A + B)\n",
        "for j in range(T):\n",
        "    Case = f'Case #{j+1}: {a[j]} + {b[j]} = {c[j]}'\n",
        "    print(Case)"
      ],
      "execution_count": 7,
      "outputs": [
        {
          "output_type": "stream",
          "name": "stdout",
          "text": [
            "5\n",
            "1 1\n",
            "2 3\n",
            "3 4\n",
            "9 8\n",
            "5 2\n",
            "Case #1: 1 + 1 = 2\n",
            "Case #2: 2 + 3 = 5\n",
            "Case #3: 3 + 4 = 7\n",
            "Case #4: 9 + 8 = 17\n",
            "Case #5: 5 + 2 = 7\n"
          ]
        }
      ]
    },
    {
      "cell_type": "code",
      "metadata": {
        "colab": {
          "base_uri": "https://localhost:8080/"
        },
        "id": "a9Wt_Xf-Q597",
        "outputId": "4ea6466e-bac1-4960-efb1-c9a13827788e"
      },
      "source": [
        "# 2438\n",
        "# 별 찍기 - 1\n",
        "\n",
        "N = int(input())\n",
        "\n",
        "for i in range(N):\n",
        "    for j in range(N):\n",
        "        if i < j:\n",
        "            print('',end='')\n",
        "        else:\n",
        "            print('*',end='')\n",
        "    print()"
      ],
      "execution_count": 4,
      "outputs": [
        {
          "output_type": "stream",
          "name": "stdout",
          "text": [
            "5\n",
            "*\n",
            "**\n",
            "***\n",
            "****\n",
            "*****\n"
          ]
        }
      ]
    },
    {
      "cell_type": "code",
      "metadata": {
        "colab": {
          "base_uri": "https://localhost:8080/"
        },
        "id": "u_UXB-8-Q9Zb",
        "outputId": "ae30b28c-989d-4fdd-e163-89a8d0914d3e"
      },
      "source": [
        "# 2439\n",
        "# 별 찍기 - 2\n",
        "\n",
        "N = int(input())\n",
        "\n",
        "for i in range(N):\n",
        "    for h in range(N-i-1):\n",
        "        print(' ', end='')\n",
        "    for j in range(i+1):\n",
        "        print('*', end= '')\n",
        "    print()"
      ],
      "execution_count": 11,
      "outputs": [
        {
          "output_type": "stream",
          "name": "stdout",
          "text": [
            "5\n",
            "    *\n",
            "   **\n",
            "  ***\n",
            " ****\n",
            "*****\n"
          ]
        }
      ]
    },
    {
      "cell_type": "code",
      "metadata": {
        "colab": {
          "base_uri": "https://localhost:8080/"
        },
        "id": "JldFyk-sV4hW",
        "outputId": "bf185cf4-3568-4c29-e09b-1cc3bf2647f2"
      },
      "source": [
        "# 10871\n",
        "# X보다 작은 수\n",
        "# 리스트 형태로 에러\n",
        "\n",
        "A, B = map(int, input().split())\n",
        "C = list(map(int, input().split()))\n",
        "x = []\n",
        "for i in range(A):\n",
        "    if C[i] < B:\n",
        "        x.append(C[i])   \n",
        "print(x)"
      ],
      "execution_count": 43,
      "outputs": [
        {
          "output_type": "stream",
          "name": "stdout",
          "text": [
            "10 5\n",
            "1 10 4 9 2 3 8 5 7 6\n",
            "[1, 4, 2, 3]\n"
          ]
        }
      ]
    },
    {
      "cell_type": "code",
      "metadata": {
        "colab": {
          "base_uri": "https://localhost:8080/"
        },
        "id": "OmxeBO_7XsV1",
        "outputId": "fff9b0cd-03fc-40a6-ba78-3ee4a41f97a1"
      },
      "source": [
        "A, B = map(int, input().split())\n",
        "C = list(map(int, input().split()))\n",
        "x = []\n",
        "for i in range(A):\n",
        "    if C[i] < B:\n",
        "        x.append(str(C[i]))\n",
        "print(' '.join(x))"
      ],
      "execution_count": 44,
      "outputs": [
        {
          "output_type": "stream",
          "name": "stdout",
          "text": [
            "10 5\n",
            "1 10 4 9 2 3 8 5 7 6\n",
            "1 4 2 3\n"
          ]
        }
      ]
    },
    {
      "cell_type": "code",
      "metadata": {
        "id": "--rFaCXGiLmv"
      },
      "source": [
        ""
      ],
      "execution_count": null,
      "outputs": []
    }
  ]
}