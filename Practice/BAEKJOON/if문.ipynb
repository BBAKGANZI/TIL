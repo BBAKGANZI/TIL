{
  "nbformat": 4,
  "nbformat_minor": 0,
  "metadata": {
    "colab": {
      "name": "if문.ipynb",
      "provenance": [],
      "collapsed_sections": []
    },
    "kernelspec": {
      "name": "python3",
      "display_name": "Python 3"
    },
    "language_info": {
      "name": "python"
    }
  },
  "cells": [
    {
      "cell_type": "code",
      "metadata": {
        "id": "OW-CyjY0AGcK"
      },
      "source": [
        "import numpy as np"
      ],
      "execution_count": 12,
      "outputs": []
    },
    {
      "cell_type": "code",
      "metadata": {
        "colab": {
          "base_uri": "https://localhost:8080/"
        },
        "id": "tBNkjTl3nW_8",
        "outputId": "d96111cd-ed4b-4ec5-ccff-e3d830ce2671"
      },
      "source": [
        "# 1330\n",
        "# 두 수 비교하기\n",
        "\n",
        "x, y = map(int, input().split())\n",
        "if x > y:\n",
        "    print('>')\n",
        "if x < y:\n",
        "    print('<')\n",
        "if x == y:\n",
        "    print('==')"
      ],
      "execution_count": 108,
      "outputs": [
        {
          "output_type": "stream",
          "name": "stdout",
          "text": [
            "10 2\n",
            ">\n"
          ]
        }
      ]
    },
    {
      "cell_type": "code",
      "metadata": {
        "colab": {
          "base_uri": "https://localhost:8080/"
        },
        "id": "a8m-1MT6Ghdb",
        "outputId": "2c945f40-0164-412e-f797-d065fc1cf7e6"
      },
      "source": [
        "# 9498\n",
        "# 시험 성적\n",
        "x = int(input())\n",
        "if x >= 90 and x <=100:\n",
        "    print('A')\n",
        "elif x >= 80 and x < 90:\n",
        "    print('B')\n",
        "elif x >=70 and x < 80:\n",
        "    print('C')\n",
        "elif x >=60 and x < 70:\n",
        "    print('D')\n",
        "else:\n",
        "    print('F')"
      ],
      "execution_count": 38,
      "outputs": [
        {
          "output_type": "stream",
          "name": "stdout",
          "text": [
            "50\n",
            "F\n"
          ]
        }
      ]
    },
    {
      "cell_type": "code",
      "metadata": {
        "colab": {
          "base_uri": "https://localhost:8080/"
        },
        "id": "-fKXvCdNG6wY",
        "outputId": "902b99ad-d895-4e0c-9f3a-564e3a434b33"
      },
      "source": [
        "# 2753\n",
        "# 윤년\n",
        "x = int(input())\n",
        "y = x % 400 == 0\n",
        "if x % 4 == 0 and x % 100 != 0 or y:\n",
        "    print('1')\n",
        "else:\n",
        "    print('0')"
      ],
      "execution_count": 52,
      "outputs": [
        {
          "output_type": "stream",
          "name": "stdout",
          "text": [
            "1800\n",
            "0\n"
          ]
        }
      ]
    },
    {
      "cell_type": "code",
      "metadata": {
        "id": "5q_oYZg4Ls9W"
      },
      "source": [
        "# 14681\n",
        "# 사분면 고르기\n",
        "x = int(input())\n",
        "y = int(input())\n",
        "\n",
        "if x > 0 and y > 0:\n",
        "    print(1)\n",
        "elif x < 0 and y > 0:\n",
        "    print(2)\n",
        "elif x < 0 and y < 0:\n",
        "    print(3)\n",
        "elif x > 0 and y < 0:\n",
        "    print(4)"
      ],
      "execution_count": null,
      "outputs": []
    },
    {
      "cell_type": "code",
      "metadata": {
        "colab": {
          "base_uri": "https://localhost:8080/"
        },
        "id": "NOyOSdxlSyPO",
        "outputId": "493b8956-a75e-4ba9-ef71-544a78751087"
      },
      "source": [
        "# 2884\n",
        "# 알람 시계\n",
        "h, m = map(int, input().split())\n",
        "\n",
        "if h >= 1 and m >= 45:\n",
        "    print(h, m - 45)\n",
        "if h >= 1 and m < 45:\n",
        "    print(h-1, m + 15)\n",
        "if h == 0 and m >= 45:\n",
        "    print(h, m - 45)\n",
        "if h == 0 and m < 45:\n",
        "    print(23, 60-(45-m))"
      ],
      "execution_count": 105,
      "outputs": [
        {
          "output_type": "stream",
          "name": "stdout",
          "text": [
            "0 10\n",
            "23 25\n"
          ]
        }
      ]
    },
    {
      "cell_type": "code",
      "metadata": {
        "id": "a3D8I116jR4y"
      },
      "source": [
        ""
      ],
      "execution_count": null,
      "outputs": []
    }
  ]
}