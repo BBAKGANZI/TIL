{
  "nbformat": 4,
  "nbformat_minor": 0,
  "metadata": {
    "colab": {
      "name": "1차원_배열.ipynb",
      "provenance": [],
      "collapsed_sections": []
    },
    "kernelspec": {
      "name": "python3",
      "display_name": "Python 3"
    },
    "language_info": {
      "name": "python"
    }
  },
  "cells": [
    {
      "cell_type": "code",
      "metadata": {
        "colab": {
          "base_uri": "https://localhost:8080/"
        },
        "id": "JiIU5g51ktVT",
        "outputId": "6aa76d19-f978-4ae3-cbbf-e7d85c0a02f0"
      },
      "source": [
        "# 10818\n",
        "# 최소, 최대\n",
        "\n",
        "x = int(input())\n",
        "y = list(map(int, input().split()))\n",
        "\n",
        "print(min(y), max(y))"
      ],
      "execution_count": null,
      "outputs": [
        {
          "output_type": "stream",
          "name": "stdout",
          "text": [
            "5\n",
            "20 10 35 30 7\n",
            "7 35\n"
          ]
        }
      ]
    },
    {
      "cell_type": "code",
      "metadata": {
        "colab": {
          "base_uri": "https://localhost:8080/"
        },
        "id": "ED4ek1ZGnl0G",
        "outputId": "a6bfb2a1-d230-4af8-eeb3-4ecdbd403268"
      },
      "source": [
        "# 2562\n",
        "# 최댓값\n",
        "\n",
        "x = []\n",
        "\n",
        "for i in range(9):\n",
        "    num = int(input())\n",
        "    x.append(num)\n",
        "\n",
        "print(max(x))\n",
        "print(x.index(max(x)) + 1)"
      ],
      "execution_count": null,
      "outputs": [
        {
          "output_type": "stream",
          "name": "stdout",
          "text": [
            "3\n",
            "29\n",
            "38\n",
            "12\n",
            "57\n",
            "74\n",
            "40\n",
            "85\n",
            "61\n",
            "85\n",
            "8\n"
          ]
        }
      ]
    },
    {
      "cell_type": "code",
      "metadata": {
        "colab": {
          "base_uri": "https://localhost:8080/"
        },
        "id": "B4V8lu6pkiqt",
        "outputId": "4b23b0b2-5b69-4959-df45-99139bb75631"
      },
      "source": [
        "# 2577\n",
        "# 숫자의 개수\n",
        "\n",
        "A = int(input())\n",
        "B = int(input())\n",
        "C = int(input())\n",
        "\n",
        "x = str(A * B * C)\n",
        "\n",
        "for i in range(10):\n",
        "    print(x.count(str(i)))"
      ],
      "execution_count": null,
      "outputs": [
        {
          "output_type": "stream",
          "name": "stdout",
          "text": [
            "150\n",
            "266\n",
            "427\n",
            "3\n",
            "1\n",
            "0\n",
            "2\n",
            "0\n",
            "0\n",
            "0\n",
            "2\n",
            "0\n",
            "0\n"
          ]
        }
      ]
    },
    {
      "cell_type": "code",
      "metadata": {
        "colab": {
          "base_uri": "https://localhost:8080/"
        },
        "id": "GXrQN6EboFnB",
        "outputId": "1174251e-49d7-4611-d710-f62111c5f152"
      },
      "source": [
        "# 3052\n",
        "# 나머지\n",
        "# 런타임 에러(백준에서는 numpy사용 불가)\n",
        "\n",
        "import numpy as np\n",
        "\n",
        "x = []\n",
        "y = []\n",
        "\n",
        "for i in range(10):\n",
        "    num = int(input())\n",
        "    x.append(num % 42)\n",
        "\n",
        "    y = list(np.unique(x))\n",
        "len(y)"
      ],
      "execution_count": null,
      "outputs": [
        {
          "name": "stdout",
          "output_type": "stream",
          "text": [
            "39\n",
            "40\n",
            "41\n",
            "42\n",
            "43\n",
            "44\n",
            "82\n",
            "83\n",
            "84\n",
            "85\n"
          ]
        },
        {
          "output_type": "execute_result",
          "data": {
            "text/plain": [
              "6"
            ]
          },
          "metadata": {},
          "execution_count": 18
        }
      ]
    },
    {
      "cell_type": "code",
      "metadata": {
        "colab": {
          "base_uri": "https://localhost:8080/"
        },
        "id": "3C8qtdGAqVKy",
        "outputId": "aaccf523-6f12-4ca9-f878-20eca4ca6251"
      },
      "source": [
        "# 3052\n",
        "# 나머지\n",
        "\n",
        "x = []\n",
        "y = []\n",
        "\n",
        "for i in range(10):\n",
        "    num = int(input())\n",
        "    x.append(num % 42)\n",
        "\n",
        "for i in x:\n",
        "    if i not in y:\n",
        "        y.append(i)\n",
        "\n",
        "print(len(y))"
      ],
      "execution_count": 3,
      "outputs": [
        {
          "output_type": "stream",
          "name": "stdout",
          "text": [
            "39\n",
            "40\n",
            "41\n",
            "42\n",
            "43\n",
            "44\n",
            "82\n",
            "83\n",
            "84\n",
            "85\n",
            "6\n"
          ]
        }
      ]
    },
    {
      "cell_type": "code",
      "metadata": {
        "id": "1FsNdqIYlk59",
        "colab": {
          "base_uri": "https://localhost:8080/"
        },
        "outputId": "4df90e2e-b6f4-4b72-d9a4-5d7017c209a4"
      },
      "source": [
        "# 1546\n",
        "# 평균\n",
        "\n",
        "x = int(input())\n",
        "Score = list(map(int, input().split()))\n",
        "\n",
        "NScore = 0\n",
        "\n",
        "for i in range(x):\n",
        "    NScore += Score[i] / max(Score) * 100\n",
        "\n",
        "\n",
        "print(NScore/x)"
      ],
      "execution_count": 4,
      "outputs": [
        {
          "output_type": "stream",
          "name": "stdout",
          "text": [
            "3\n",
            "40 80 60\n",
            "75.0\n"
          ]
        }
      ]
    },
    {
      "cell_type": "code",
      "metadata": {
        "colab": {
          "base_uri": "https://localhost:8080/"
        },
        "id": "ZbY2UyBArqoL",
        "outputId": "a9853519-19cf-40a8-ac87-37e5d8c2fa04"
      },
      "source": [
        " # 4344\n",
        " # 평균은 넘겠지\n",
        "\n",
        " C = int(input())\n",
        "\n",
        "for i in range(C):\n",
        "    cnt = 0\n",
        "    Score = list(map(int, input().split()))\n",
        "    avg = sum(Score[1:]) / Score[0]\n",
        "    for k in range(Score[0]):\n",
        "        if Score[k+1] > avg:\n",
        "            cnt += 1\n",
        "        answer = cnt / Score[0] * 100\n",
        "    print(\"{0:.3f}%\".format(round(answer, 3)))"
      ],
      "execution_count": 7,
      "outputs": [
        {
          "output_type": "stream",
          "name": "stdout",
          "text": [
            "5\n",
            "5 50 50 70 80 100\n",
            "40.000%\n",
            "7 100 95 90 80 70 60 50\n",
            "57.143%\n",
            "3 70 90 80\n",
            "33.333%\n",
            "3 70 90 81\n",
            "66.667%\n",
            "9 100 99 98 97 96 95 94 93 91\n",
            "55.556%\n"
          ]
        }
      ]
    },
    {
      "cell_type": "code",
      "metadata": {
        "id": "i65uRGsT_ant"
      },
      "source": [
        ""
      ],
      "execution_count": null,
      "outputs": []
    }
  ]
}