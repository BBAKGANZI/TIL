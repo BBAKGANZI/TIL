{
  "nbformat": 4,
  "nbformat_minor": 0,
  "metadata": {
    "colab": {
      "name": "1차원 배열.ipynb",
      "provenance": [],
      "collapsed_sections": []
    },
    "kernelspec": {
      "name": "python3",
      "display_name": "Python 3"
    },
    "language_info": {
      "name": "python"
    }
  },
  "cells": [
    {
      "cell_type": "code",
      "metadata": {
        "colab": {
          "base_uri": "https://localhost:8080/"
        },
        "id": "JiIU5g51ktVT",
        "outputId": "6aa76d19-f978-4ae3-cbbf-e7d85c0a02f0"
      },
      "source": [
        "# 10818\n",
        "# 최소, 최대\n",
        "\n",
        "x = int(input())\n",
        "y = list(map(int, input().split()))\n",
        "\n",
        "print(min(y), max(y))"
      ],
      "execution_count": 1,
      "outputs": [
        {
          "output_type": "stream",
          "name": "stdout",
          "text": [
            "5\n",
            "20 10 35 30 7\n",
            "7 35\n"
          ]
        }
      ]
    },
    {
      "cell_type": "code",
      "metadata": {
        "colab": {
          "base_uri": "https://localhost:8080/"
        },
        "id": "ED4ek1ZGnl0G",
        "outputId": "a6bfb2a1-d230-4af8-eeb3-4ecdbd403268"
      },
      "source": [
        "# 2562\n",
        "# 최댓값\n",
        "\n",
        "x = []\n",
        "\n",
        "for i in range(9):\n",
        "    num = int(input())\n",
        "    x.append(num)\n",
        "\n",
        "print(max(x))\n",
        "print(x.index(max(x)) + 1)"
      ],
      "execution_count": 7,
      "outputs": [
        {
          "output_type": "stream",
          "name": "stdout",
          "text": [
            "3\n",
            "29\n",
            "38\n",
            "12\n",
            "57\n",
            "74\n",
            "40\n",
            "85\n",
            "61\n",
            "85\n",
            "8\n"
          ]
        }
      ]
    },
    {
      "cell_type": "code",
      "metadata": {
        "colab": {
          "base_uri": "https://localhost:8080/"
        },
        "id": "GXrQN6EboFnB",
        "outputId": "1174251e-49d7-4611-d710-f62111c5f152"
      },
      "source": [
        "# 3052\n",
        "# 나머지\n",
        "# 런타임 에러\n",
        "\n",
        "import numpy as np\n",
        "\n",
        "x = []\n",
        "y = []\n",
        "\n",
        "for i in range(10):\n",
        "    num = int(input())\n",
        "    x.append(num % 42)\n",
        "\n",
        "    y = list(np.unique(x))\n",
        "len(y)"
      ],
      "execution_count": 18,
      "outputs": [
        {
          "name": "stdout",
          "output_type": "stream",
          "text": [
            "39\n",
            "40\n",
            "41\n",
            "42\n",
            "43\n",
            "44\n",
            "82\n",
            "83\n",
            "84\n",
            "85\n"
          ]
        },
        {
          "output_type": "execute_result",
          "data": {
            "text/plain": [
              "6"
            ]
          },
          "metadata": {},
          "execution_count": 18
        }
      ]
    },
    {
      "cell_type": "code",
      "metadata": {
        "colab": {
          "base_uri": "https://localhost:8080/"
        },
        "id": "3C8qtdGAqVKy",
        "outputId": "8b859eed-97e9-4970-c0ac-629ad1e0b451"
      },
      "source": [
        "x = []\n",
        "y = []\n",
        "\n",
        "for i in range(10):\n",
        "    num = int(input())\n",
        "    x.append(num % 42)\n",
        "\n",
        "for i in x:\n",
        "    if i not in y:\n",
        "        y.append(i)\n",
        "\n",
        "len(y)"
      ],
      "execution_count": 23,
      "outputs": [
        {
          "name": "stdout",
          "output_type": "stream",
          "text": [
            "1\n",
            "2\n",
            "3\n",
            "4\n",
            "5\n",
            "6\n",
            "7\n",
            "8\n",
            "9\n",
            "10\n"
          ]
        },
        {
          "output_type": "execute_result",
          "data": {
            "text/plain": [
              "10"
            ]
          },
          "metadata": {},
          "execution_count": 23
        }
      ]
    },
    {
      "cell_type": "code",
      "metadata": {
        "id": "lS44M-1rvd4L"
      },
      "source": [
        "import numpy as np\n",
        "\n",
        "x = []\n",
        "y = []\n",
        "\n",
        "for i in range(10):\n",
        "    num = int(input())\n",
        "    x.append(num % 42)\n",
        "\n",
        "    y = list(np.unique(x))\n",
        "len(y)"
      ],
      "execution_count": null,
      "outputs": []
    }
  ]
}