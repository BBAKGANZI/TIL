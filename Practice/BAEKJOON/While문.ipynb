{
  "nbformat": 4,
  "nbformat_minor": 0,
  "metadata": {
    "colab": {
      "name": "While문.ipynb",
      "provenance": [],
      "collapsed_sections": []
    },
    "kernelspec": {
      "name": "python3",
      "display_name": "Python 3"
    },
    "language_info": {
      "name": "python"
    }
  },
  "cells": [
    {
      "cell_type": "code",
      "metadata": {
        "id": "8aTM5pG7i636"
      },
      "source": [
        "import numpy as np"
      ],
      "execution_count": 1,
      "outputs": []
    },
    {
      "cell_type": "code",
      "metadata": {
        "colab": {
          "base_uri": "https://localhost:8080/"
        },
        "id": "O5gn20xsi_lM",
        "outputId": "18be86a1-28d5-43ec-abeb-13813a85c897"
      },
      "source": [
        "# 10952\n",
        "# A+B - 5\n",
        "\n",
        "while True:\n",
        "    A, B = map(int, input().split())\n",
        "    if(A != 0 and B != 0):\n",
        "        print(A + B)\n",
        "    if(A == 0 and B == 0):\n",
        "        break"
      ],
      "execution_count": null,
      "outputs": [
        {
          "name": "stdout",
          "output_type": "stream",
          "text": [
            "1 1\n",
            "2\n",
            "2 3\n",
            "5\n",
            "3 4\n",
            "7\n",
            "9 8\n",
            "17\n",
            "5 2\n",
            "7\n",
            "0 0\n"
          ]
        }
      ]
    },
    {
      "cell_type": "code",
      "metadata": {
        "colab": {
          "base_uri": "https://localhost:8080/"
        },
        "id": "3Nbg63RvjC_0",
        "outputId": "7b4e2998-247c-4d37-f452-67dca4bd0c99"
      },
      "source": [
        "# 10951\n",
        "# A+B - 4\n",
        "\n",
        "while True:\n",
        "    try:\n",
        "        A, B = map(int, input().split())\n",
        "        print(A + B)\n",
        "    except:\n",
        "        break"
      ],
      "execution_count": null,
      "outputs": [
        {
          "name": "stdout",
          "output_type": "stream",
          "text": [
            "1 1\n",
            "2\n",
            " 2 3\n",
            "5\n",
            "3 4\n",
            "7\n",
            "9 8\n",
            "17\n",
            "5 2\n",
            "7\n",
            "\n"
          ]
        }
      ]
    },
    {
      "cell_type": "code",
      "metadata": {
        "id": "NSgF1vevlipu",
        "colab": {
          "base_uri": "https://localhost:8080/"
        },
        "outputId": "6eb0b41f-393a-40bd-8fc1-c33ef9894622"
      },
      "source": [
        "# 1110\n",
        "# 더하기 사이클\n",
        "x = input()\n",
        "data = x\n",
        "cnt = 0\n",
        "\n",
        "if int(data) < 10:\n",
        "    cnt -= 1\n",
        "\n",
        "while True:\n",
        "    if len(data) == 1:\n",
        "        data = \"0\" + data[0]\n",
        "        cnt += 1\n",
        "    if len(data) ==2:\n",
        "        if (int(data[0]) + int(data[1])) > 9:\n",
        "            ex = str(int(data[0]) + int(data[1]))\n",
        "            data = data[1] + ex[1]\n",
        "            cnt += 1\n",
        "        else:\n",
        "            data = data[1] + str(int(data[0]) + int(data[1]))\n",
        "            cnt += 1\n",
        "    if int(data) == int(x):\n",
        "        print(cnt)\n",
        "        break"
      ],
      "execution_count": 2,
      "outputs": [
        {
          "output_type": "stream",
          "name": "stdout",
          "text": [
            "26\n",
            "4\n"
          ]
        }
      ]
    },
    {
      "cell_type": "code",
      "metadata": {
        "id": "c_WnpVDskR-3"
      },
      "source": [
        ""
      ],
      "execution_count": null,
      "outputs": []
    },
    {
      "cell_type": "code",
      "metadata": {
        "id": "GjPtWmMkkPcK"
      },
      "source": [
        ""
      ],
      "execution_count": null,
      "outputs": []
    }
  ]
}